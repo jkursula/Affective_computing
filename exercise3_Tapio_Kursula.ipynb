{
 "cells": [
  {
   "cell_type": "markdown",
   "metadata": {},
   "source": [
    "# Affective Computing - Programming Assignment 3\n",
    "\n",
    "### Objective\n",
    "\n",
    "Your task is to use the **feature-level** method to combine facial expression features and audio features. A **multi-modal emotion recognition system** is constructed to recognize happy versus sadness facial expressions (binary-class problem) by using a classifier training and testing structure.\n",
    "\n",
    "The original data is based on lab1 and lab2, from ten actors acting happy and sadness behaviors. \n",
    "* Task 1: **Subspace-based feature fusion** method: In this case, z-score normalization is utilized. Please read “Fusing Gabor and LBP feature sets for kernel-based face recognition” and learn how to use subspace-based feature fusion method for multi-modal system.\n",
    "\n",
    "* Task 2: Based on Task 1, use **Canonical Correlation Analysis(CCA)** to calculate the correlation coefficients of facial expression and audio features. Finally, use CCA to build a multi-modal emotion recognition system. The method is described in one conference paper “Feature fusion method based on canonical correlation analysis and handwritten character recognition”\n",
    "* Task 3: Based on Task 1, create a **Leave-One-Subject-Out (LOSO) cross-validation** to estimate the performance more reliably.\n",
    "\n",
    "To produce emotion recognition case, Support Vector Machine (SVM) classifiers are trained.  50 videos from 5 participants are used to train the emotion recognition systems by using spatiotemporal features. The rest of the data (50 videos) are used to evaluate the performances of the trained recognition systems."
   ]
  },
  {
   "cell_type": "markdown",
   "metadata": {},
   "source": [
    "## Task 1. Subspace-based method\n",
    "Please read “Fusing Gabor and LBP feature sets for kernel-based face recognition” and apply their framework for the exercise. We use Support Vector Machine (SVM) with linear kernel for classification. As opposed to using Gabor features we are using the prosodic features from the last exercise.\n"
   ]
  },
  {
   "cell_type": "markdown",
   "metadata": {},
   "source": [
    "### Setting up the environment \n",
    "\n",
    "First, we need to import the basic modules for loading the data and data processing"
   ]
  },
  {
   "cell_type": "code",
   "execution_count": 1,
   "metadata": {},
   "outputs": [],
   "source": [
    "import sys\n",
    "sys.path.append('../')\n",
    "from skimage import io\n",
    "from skimage import transform\n",
    "from skimage import color\n",
    "from skimage import img_as_ubyte\n",
    "import os\n",
    "import numpy as np\n",
    "import matplotlib.pyplot as plt\n",
    "import matplotlib.patches as patches\n",
    "import sklearn\n",
    "import scipy.io as sio"
   ]
  },
  {
   "cell_type": "markdown",
   "metadata": {},
   "source": [
    "### Loading data \n",
    "\n",
    "We load the facial expression data (training data, training class, testing data, testing class) and audio data (training data, testing data)"
   ]
  },
  {
   "cell_type": "code",
   "execution_count": 2,
   "metadata": {},
   "outputs": [
    {
     "name": "stdout",
     "output_type": "stream",
     "text": [
      "['__header__', '__version__', '__globals__', 'speech_sample', 'testing_class', 'testing_data_mfcc', 'testing_data_proso', 'testing_personID', 'training_class', 'training_data_mfcc', 'training_data_proso', 'training_personID', 'training_data', 'testing_data']\n",
      "(50, 708)\n",
      "(50, 708)\n",
      "(50, 15)\n",
      "(50, 15)\n",
      "[1 1 1 1 1 1 1 1 1 1 2 2 2 2 2 2 2 2 2 2 3 3 3 3 3 3 3 3 3 3 4 4 4 4 4 4 4\n",
      " 4 4 4 5 5 5 5 5 5 5 5 5 5]\n",
      "[10 10 10 10 10 10 10 10 10 10 12 12 12 12 12 12 12 12 12 12  7  7  7  7\n",
      "  7  7  7  7  7  7  8  8  8  8  8  8  8  8  8  8  9  9  9  9  9  9  9  9\n",
      "  9  9]\n"
     ]
    }
   ],
   "source": [
    "mdata = sio.loadmat('lab3_data.mat')\n",
    "print([name for name in mdata])\n",
    "#Facial expression training and testing data, training and testing class\n",
    "# print(mdata)\n",
    "training_data = mdata[\"training_data\"]\n",
    "testing_data = mdata[\"testing_data\"]\n",
    "training_class = mdata[\"training_class\"]\n",
    "testing_class = mdata[\"testing_class\"]\n",
    "\n",
    "#Audio training and testing data\n",
    "training_data_proso = mdata[\"training_data_proso\"]\n",
    "testing_data_proso = mdata[\"testing_data_proso\"]\n",
    "\n",
    "print(training_data.shape)\n",
    "print(testing_data.shape)\n",
    "print(training_data_proso.shape)\n",
    "print(testing_data_proso.shape)\n",
    "print(mdata['training_personID'].ravel())\n",
    "print(mdata['testing_personID'].ravel())\n"
   ]
  },
  {
   "cell_type": "markdown",
   "metadata": {},
   "source": [
    "### Extract the subspace for facial expression features and audio features\n",
    "Extract the subspace for facial expression features and audio features using principal component analysis through using __[`sklearn.decomposition.PCA()`](http://scikit-learn.org/stable/modules/generated/sklearn.decomposition.PCA.html)__ function.\n",
    "`reduced_dim` is the dimensionality of the reduced subspace.\n",
    "Set `reduced_dim` to 20 and 15 for facial expression features and audio features, respectively. Normalization should be done sample wise. The test data should be normalized with the values from the training data.\n",
    "For concatenating the features use the __[`np.concatenate()`](https://docs.scipy.org/doc/numpy/reference/generated/numpy.concatenate.html)__ function. Set the random state to be 0. The PCA uses a randomized truncated SVD, meaning that the results may vary depending on the seed."
   ]
  },
  {
   "cell_type": "code",
   "execution_count": 6,
   "metadata": {},
   "outputs": [
    {
     "name": "stdout",
     "output_type": "stream",
     "text": [
      "(50, 708)\n",
      "(50, 20)\n"
     ]
    }
   ],
   "source": [
    "from sklearn.decomposition import PCA \n",
    "from scipy import stats\n",
    "\n",
    "#Set Reduced_dim for facial expression features and audio features, respectively.\n",
    "reduced_dim_v = 20\n",
    "reduced_dim_a = 15\n",
    "\n",
    "print(training_data.shape)\n",
    "\n",
    "#Extract the subspace for facial expression features though PCA\n",
    "pca_v = PCA(reduced_dim_v, random_state=0) #Random state ensures we get same results on different runs\n",
    "pca_v.fit(training_data)\n",
    "\n",
    "#Transform training_data and testing data respectively\n",
    "train_trans_v = pca_v.transform(training_data)\n",
    "print(train_trans_v.shape)\n",
    "test_trans_v = pca_v.transform(testing_data)\n",
    "\n",
    "\n",
    "#Extract the subspace for audio features though PCA\n",
    "pca_a = PCA(reduced_dim_a, random_state=0) #Random state ensures we get same results on different runs\n",
    "pca_a.fit(training_data_proso)\n",
    "\n",
    "#Transform the training_data and testing_data respectively\n",
    "train_trans_a = pca_a.transform(training_data_proso)\n",
    "test_trans_a = pca_a.transform(testing_data_proso)\n",
    "\n",
    "#Normalize the features\n",
    "std_v = np.std(train_trans_v,0)\n",
    "std_a = np.std(train_trans_a,0)\n",
    "\n",
    "mean_v = np.mean(train_trans_v,0)\n",
    "mean_a = np.mean(train_trans_a,0)\n",
    "\n",
    "\n",
    "\n",
    "train_norm_v = (train_trans_v - mean_v)/std_v\n",
    "test_norm_v = (test_trans_v - mean_v)/std_v\n",
    "train_norm_a = (train_trans_a - mean_a)/std_a\n",
    "test_norm_a = (test_trans_a - mean_a)/std_a\n",
    "\n",
    "\n",
    "\n",
    "\n",
    "#Concatenate the transformed training data of facial expression features and audio features together\n",
    "combined_train = np.concatenate((train_norm_v, train_norm_a),1)\n",
    "\n",
    "\n",
    "\n",
    "#Concatenate the transformed testing data of facial expression features and audio features together\n",
    "combined_test = np.concatenate((test_norm_v, test_norm_a),1)\n",
    "\n"
   ]
  },
  {
   "cell_type": "markdown",
   "metadata": {},
   "source": [
    "### Question 1. Why is PCA used? Why not just concatenate the extracted features without PCA?"
   ]
  },
  {
   "cell_type": "markdown",
   "metadata": {},
   "source": [
    "### Your answer:"
   ]
  },
  {
   "cell_type": "markdown",
   "metadata": {},
   "source": [
    "With more dimentions, exponentially more data is needed to provide reliable results. In our case, the sample size is far smaller than the amount of features, and the number of features needs to substantially decrease to get results with our sample size. With PCA, the information of the original features is condenced into fewer, more relevant features, reducing the amount of samples needed. "
   ]
  },
  {
   "cell_type": "markdown",
   "metadata": {},
   "source": [
    "### Feature classification\n",
    "Use the __[`SVM`](http://scikit-learn.org/stable/modules/svm.html)__ function to train Support Vector Machine (SVM) classifiers.\n",
    "Construct a SVM using the combined training data and linear kernel. The `training_class` group vector contains the class of samples: 1 = happy, 2 = sadness, corresponding to the rows of the training data matrices.\n",
    "\n",
    "Then, calculate average classification performances for both training and testing data. The correct class labels corresponding with the rows of the training and testing data matrices are in the variables ‘training_class’ and ‘testing_class’, respectively."
   ]
  },
  {
   "cell_type": "code",
   "execution_count": 57,
   "metadata": {},
   "outputs": [
    {
     "name": "stdout",
     "output_type": "stream",
     "text": [
      "training data accuracy: 1.0\n",
      "testing data accuracy: 0.98\n"
     ]
    }
   ],
   "source": [
    "from sklearn import svm\n",
    "\n",
    "# Train SVM classifier\n",
    "clf = svm.SVC(kernel='linear')\n",
    "clf.fit(combined_train, training_class.ravel())\n",
    "#The prediction results\n",
    "prediction_train = clf.predict(combined_train)\n",
    "prediction = clf.predict(combined_test)\n",
    "\n",
    "#Calculate and print the training accuracy and testing accuracy. \n",
    "correct_num_train = 0\n",
    "for train, pred in zip(prediction_train, training_class.ravel()):\n",
    "    if train == pred:\n",
    "        correct_num_train += 1\n",
    "accuracy_train = correct_num_train/len(prediction_train)\n",
    "print(\"training data accuracy: {}\".format(accuracy_train))\n",
    "# print(prediction_train)\n",
    "# print(training_class.ravel())\n",
    "\n",
    "\n",
    "correct_num_test = 0\n",
    "for train, pred in zip(prediction, testing_class.ravel()):\n",
    "    if train == pred:\n",
    "        correct_num_test += 1\n",
    "accuracy_test = correct_num_test/len(prediction)\n",
    "print(\"testing data accuracy: {}\".format(accuracy_test))\n",
    "# print(prediction)\n",
    "# print(testing_class.ravel())"
   ]
  },
  {
   "cell_type": "markdown",
   "metadata": {},
   "source": [
    "Compute the confusion matrices using __[`sklearn.metrics.confusion_matrix()`](http://scikit-learn.org/stable/modules/generated/sklearn.decomposition.PCA.html)__function for both the training data and testing data."
   ]
  },
  {
   "cell_type": "code",
   "execution_count": 58,
   "metadata": {},
   "outputs": [
    {
     "name": "stdout",
     "output_type": "stream",
     "text": [
      "training confusion matrix:\n",
      " [[25  0]\n",
      " [ 0 25]]\n",
      "testing confusion matrix:\n",
      " [[25  0]\n",
      " [ 1 24]]\n"
     ]
    }
   ],
   "source": [
    "from sklearn.metrics import confusion_matrix\n",
    "train_cm = confusion_matrix(training_class, prediction_train)\n",
    "print(\"training confusion matrix:\\n {}\".format(train_cm))\n",
    "\n",
    "test_cm = confusion_matrix(testing_class, prediction)\n",
    "print(\"testing confusion matrix:\\n {}\".format(test_cm))\n"
   ]
  },
  {
   "cell_type": "markdown",
   "metadata": {},
   "source": [
    "## Task 2. \n",
    "As opposed to a simple concatenation we can try something smarter that utilizes the common characteristics of the fused features. This is achieved using the CCA. Use the PCA transformed vectors and set the number of components for the CCA to be 15.\n"
   ]
  },
  {
   "cell_type": "markdown",
   "metadata": {},
   "source": [
    "Use (__[`sklearn.cross_decomposition.CCA()`](http://scikit-learn.org/stable/modules/generated/sklearn.cross_decomposition.CCA.html)__) function to calculate the correlation coefficients of facial expression features and audio features. For `n_components` of CCA use the same number as the reduced dimensionality of the audio features in the previous task."
   ]
  },
  {
   "cell_type": "code",
   "execution_count": 59,
   "metadata": {},
   "outputs": [
    {
     "name": "stdout",
     "output_type": "stream",
     "text": [
      "(50, 30)\n"
     ]
    }
   ],
   "source": [
    "from sklearn.cross_decomposition import CCA\n",
    "import numpy as np\n",
    "\n",
    "#Use CCA to construct the Canonical Projective Vector (CPV)\n",
    "cca = CCA(15)\n",
    "cca.fit(train_norm_v, train_norm_a)\n",
    "\n",
    "#Construct Canonical Correlation Discriminant Features (CCDF) for both the training data and testing data\n",
    "train_scores_v, train_scores_a = cca.transform(train_norm_v, train_norm_a)\n",
    "test_scores_v, test_scores_a = cca.transform(test_norm_v, test_norm_a)\n",
    "\n",
    "\n",
    "\n",
    "# Concatenate the CCA transformed features for training data and testing data\n",
    "cca_combined_train = np.concatenate((train_scores_v, train_scores_a), 1)\n",
    "cca_combined_test = np.concatenate((test_scores_v, test_scores_a), 1)\n",
    "\n",
    "print(cca_combined_test.shape)"
   ]
  },
  {
   "cell_type": "code",
   "execution_count": 60,
   "metadata": {},
   "outputs": [
    {
     "name": "stdout",
     "output_type": "stream",
     "text": [
      "(50, 20)\n"
     ]
    }
   ],
   "source": [
    "print(np.array(train_norm_v).shape)"
   ]
  },
  {
   "cell_type": "markdown",
   "metadata": {},
   "source": [
    "Train a SVM classifier using a linear kernel, print the training and testing accuracy and compute the confusion matrix."
   ]
  },
  {
   "cell_type": "code",
   "execution_count": 61,
   "metadata": {},
   "outputs": [
    {
     "name": "stdout",
     "output_type": "stream",
     "text": [
      "cca training data accuracy: 1.0\n",
      "cca test data accuracy: 0.92\n",
      "cca training confusion matrix:\n",
      " [[25  0]\n",
      " [ 0 25]]\n",
      "cca testing confusion matrix:\n",
      " [[25  0]\n",
      " [ 4 21]]\n"
     ]
    }
   ],
   "source": [
    "#Train svm classifier \n",
    "cca_clf = svm.SVC(kernel='linear')\n",
    "cca_clf.fit(cca_combined_train, training_class.ravel())  \n",
    "\n",
    "#The prediction results\n",
    "cca_prediction_train = cca_clf.predict(cca_combined_train)\n",
    "cca_prediction = cca_clf.predict(cca_combined_test)\n",
    "\n",
    "#Calculate and print the training accuracy and testing accuracy. \n",
    "cca_correct_num_train = 0\n",
    "for train, pred in zip(cca_prediction_train, training_class):\n",
    "    if train == pred:\n",
    "        cca_correct_num_train += 1\n",
    "cca_accuracy_train = cca_correct_num_train/len(cca_prediction_train)\n",
    "print(\"cca training data accuracy: {}\".format(cca_accuracy_train))\n",
    "\n",
    "cca_correct_num_test = 0\n",
    "for train, pred in zip(cca_prediction, testing_class):\n",
    "    if train == pred:\n",
    "        cca_correct_num_test += 1\n",
    "cca_accuracy_test = cca_correct_num_test/len(cca_prediction)\n",
    "print(\"cca test data accuracy: {}\".format(cca_accuracy_test))\n",
    "\n",
    "\n",
    "# Compute the confusion matrix using sklearn.metrics.confusion_matrix() function for training data and testing data respectively\n",
    "cca_train_cm = confusion_matrix(training_class, cca_prediction_train)\n",
    "print(\"cca training confusion matrix:\\n {}\".format(cca_train_cm))\n",
    "\n",
    "cca_test_cm = confusion_matrix(testing_class, cca_prediction)\n",
    "print(\"cca testing confusion matrix:\\n {}\".format(cca_test_cm))\n"
   ]
  },
  {
   "cell_type": "markdown",
   "metadata": {},
   "source": [
    "### Question 2. In this exercise a feature-level method was used to fuse the features. What are the other types of methods for data fusion?"
   ]
  },
  {
   "cell_type": "markdown",
   "metadata": {},
   "source": [
    "### Your answer:"
   ]
  },
  {
   "cell_type": "markdown",
   "metadata": {},
   "source": [
    "Sensor-level fusion is an other pre-classification data fusion method, in addition to feature-level fusion. Match-score and desicion-level methods are post-classification types."
   ]
  },
  {
   "cell_type": "markdown",
   "metadata": {},
   "source": [
    "### Question 3. Compare the results from all the the different methods from assignments 1, 2 and 3. What method performed the best? What was the worst? Hypothesize as to why certain methods performed better than others."
   ]
  },
  {
   "cell_type": "markdown",
   "metadata": {},
   "source": [
    "### Your answer:"
   ]
  },
  {
   "cell_type": "markdown",
   "metadata": {},
   "source": [
    "<p>\n",
    "    Assignment 1: 0.72 accuracy\n",
    "    <br>\n",
    "    Assignment 2: prodosic: 0.62, mfcc : 0.84\n",
    "    <br>\n",
    "    Assignment 3: Subspace-based feature fusion: 0.98, Subspace-based feature fusion + cca: 0.92\n",
    "</p>\n",
    "<p>\n",
    "    Out of these methods, the Subspace-based feature fusion of the 3rd assignment performed the best with accuracy of 0.98. The worst was prodosic of 2nd assignment.\n",
    "    <br>\n",
    "    The sample size is quite small, which might introduce bias to both training and evaluation part of each method. Feature fusion methods perfomed better overall, which I think makes sense. Adding different kinds of features is a good idea, as long as dimentionality is handeled.\n",
    "    \n",
    "</p>\n",
    "\n",
    "\n"
   ]
  },
  {
   "cell_type": "markdown",
   "metadata": {},
   "source": [
    "## Task 3: \n",
    "For a more reliable evaluation, often the **Leave-One-Subject-Out (LOSO) cross-validation** is used instead of the common train-test split. Cross-validation gives us a more reliable measure of the performance as all of the data is used for both training and testing. LOSO is used as emotions are highly dependent on the subject. By using LOSO, we guarantee that a subject is always in either the training or testing data and not in both.\n",
    "\n",
    "* Join the training/testing data matrices and the class vectors. Combine also the ‘training_personID’ and ‘testing_personID’ vectors.\n",
    "\n",
    "* Assume we have a total of $n$ subjects. Now, we will create a total of $n$ folds (loops), where each folds' training set contains the data from $n-1$ subjects and the testing set consists of only $1$ subject.\n",
    "\n",
    "* Follow the steps taken in the first task: project the data to a subspace using PCA, conatenate the audio and video features together, train an SVM and finally evaluate the performance.\n",
    "\n",
    "* The solution should be able to generalize over different numbers of subjects and samples, *e.g.*, a dataset may have 24 subjects, where subject1 has 4 samples and subject2 has 32 samples."
   ]
  },
  {
   "cell_type": "code",
   "execution_count": 62,
   "metadata": {},
   "outputs": [
    {
     "name": "stdout",
     "output_type": "stream",
     "text": [
      "(100, 708)\n",
      "(100, 15)\n",
      "(100,)\n",
      "(100,)\n",
      "[ 1  2  3  4  5  7  8  9 10 12]\n"
     ]
    }
   ],
   "source": [
    "mdata = sio.loadmat('lab3_data.mat')\n",
    "# print([name for name in mdata])\n",
    "#Combine the training data, testing data, labels and person ID for video and audio respectively,\n",
    "#in order to get the whole dataset. \n",
    "# print(type(np.array(mdata['testing_data'])))\n",
    "video_data = np.concatenate((mdata['training_data'], mdata['testing_data']))\n",
    "proso_data = np.concatenate((mdata['training_data_proso'], mdata['testing_data_proso']))\n",
    "\n",
    "labels = np.concatenate((mdata['training_class'], mdata['testing_class'])).ravel()\n",
    "subjects = np.concatenate((mdata['training_personID'], mdata['testing_personID'])).ravel()\n",
    "\n",
    "#Get the number of the subject\n",
    "subject_ids = np.unique(subjects)\n",
    "\n",
    "#Print the shapes and the list of subject_ids for a sanity check\n",
    "print(video_data.shape)\n",
    "print(proso_data.shape)\n",
    "print(labels.shape)\n",
    "print(subjects.shape)\n",
    "print(subject_ids)\n",
    "# print(subjects.ravel())\n"
   ]
  },
  {
   "cell_type": "code",
   "execution_count": 63,
   "metadata": {},
   "outputs": [],
   "source": [
    "# Shape of video_data: (100, 708)\n",
    "# Shape of proso_data: (100, 15)\n",
    "# Shape of labels: (100,)\n",
    "# Shape of subjects: (100,)\n",
    "# Value of subject_ids: [ 1  2  3  4  5  7  8  9 10 12]"
   ]
  },
  {
   "cell_type": "code",
   "execution_count": 69,
   "metadata": {},
   "outputs": [
    {
     "name": "stdout",
     "output_type": "stream",
     "text": [
      "mean of accuracies: 0.93\n",
      "[0.9, 0.8, 1.0, 0.9, 0.9, 1.0, 1.0, 1.0, 0.8, 1.0]\n"
     ]
    }
   ],
   "source": [
    "accuracies = []\n",
    "#Loop over each subject\n",
    "for subject_id in subject_ids:\n",
    "    #Create a boolean array for the training and testing set indices\n",
    "    #The train_idx should be a list of form [True, True, False, ...], where True indicates the position\n",
    "    #for the samples that are not the current subject_id\n",
    "    train_idx = subjects != subject_id\n",
    "\n",
    "    \n",
    "    #Similar for the test_idx, True indicates the position of the current subject_id\n",
    "    test_idx = subjects == subject_id\n",
    "\n",
    "    \n",
    "    #Create the training and testing sets for lbp, proso and labels by indexing lbp_data, proso_data and labels\n",
    "    #with the boolean arrays train_idx and test_idx\n",
    "\n",
    "    loso_training_v = video_data[train_idx,:]\n",
    "    loso_training_a = proso_data[train_idx,:]\n",
    "    loso_training_label = labels[train_idx]\n",
    "    \n",
    "    \n",
    "    loso_testing_v = video_data[test_idx,:]\n",
    "    loso_testing_a = proso_data[test_idx,:]\n",
    "    loso_testing_label = labels[test_idx]\n",
    "    \n",
    "    #Create the PCA for both lbp and proso. We take a slight shortcut compared to task 1,\n",
    "    #by using the whiten=True parameter for normalizing the features. This means that\n",
    "    #there is no need for normalization afterwards\n",
    "    pca_v = PCA(n_components=20, whiten=True, random_state=0)\n",
    "    pca_a = PCA(n_components=15, whiten=True, random_state=0)\n",
    "    \n",
    "    #Fit the PCAs with the training data\n",
    "    pca_v.fit(loso_training_v)\n",
    "    pca_a.fit(loso_training_a)\n",
    "    #Transform both the training and testing data with the PCA\n",
    "    loso_train_trans_v = pca_v.transform(loso_training_v)\n",
    "    loso_test_trans_v = pca_v.transform(loso_testing_v)\n",
    "    \n",
    "    loso_train_trans_a = pca_a.transform(loso_training_a)\n",
    "    loso_test_trans_a = pca_a.transform(loso_testing_a)\n",
    "    \n",
    "    #Concatenate the features together\n",
    "    loso_combined_train = np.concatenate((loso_train_trans_v, loso_train_trans_a),1)\n",
    "    loso_combined_test = np.concatenate((loso_test_trans_v, loso_test_trans_a),1)\n",
    "    \n",
    "    #Create a linear SVM and train it\n",
    "    loso_clf = svm.SVC(kernel='linear')\n",
    "    loso_clf.fit(loso_combined_train, np.array(loso_training_label))\n",
    "    \n",
    "    loso_pred_test = loso_clf.predict(loso_combined_test)\n",
    "    \n",
    "    #Calculate the accuracy for the testing data and add it to the list of accuracies\n",
    "    num_correct_test = 0\n",
    "    \n",
    "\n",
    "    for pred, label in zip(loso_pred_test, loso_testing_label):\n",
    "        if label == pred:\n",
    "            num_correct_test += 1\n",
    "    \n",
    "    \n",
    "\n",
    "    loso_accuracy_test = num_correct_test/len(loso_pred_test)\n",
    "    accuracies.append(loso_accuracy_test)\n",
    "    \n",
    "\n",
    "#Calculate the average of the accuracies. Print both the list of accuracies and the average\n",
    "print(\"mean of accuracies: {}\".format(np.mean(accuracies)))\n",
    "print(accuracies)\n"
   ]
  },
  {
   "cell_type": "code",
   "execution_count": 65,
   "metadata": {},
   "outputs": [],
   "source": [
    "# List of accuracies: [0.9, 0.8, 1.0, 0.9, 0.9, 1.0, 1.0, 1.0, 0.8, 1.0]\n",
    "# Mean of accuracies: 0.93"
   ]
  },
  {
   "cell_type": "markdown",
   "metadata": {},
   "source": [
    "### Question 4. The accuracy of LOSO (0.93) is lower than the accuracy achieved by the train-test split (0.98) in task 1. Hypothesize as to why the two are different. Which one is better for evaluation?"
   ]
  },
  {
   "cell_type": "markdown",
   "metadata": {},
   "source": [
    "### Your answer:"
   ]
  },
  {
   "cell_type": "markdown",
   "metadata": {},
   "source": [
    "LOSO combats identity bias. If train and test sets include the same subject, the model is biased towards that subject and may overperform. In our case it does not seem that this is the case, as all the subject ids are different in training and testing sets. Our sample is quite small so this might be due to random noise."
   ]
  },
  {
   "cell_type": "code",
   "execution_count": null,
   "metadata": {},
   "outputs": [],
   "source": []
  }
 ],
 "metadata": {
  "kernelspec": {
   "display_name": "Python 3",
   "language": "python",
   "name": "python3"
  },
  "language_info": {
   "codemirror_mode": {
    "name": "ipython",
    "version": 3
   },
   "file_extension": ".py",
   "mimetype": "text/x-python",
   "name": "python",
   "nbconvert_exporter": "python",
   "pygments_lexer": "ipython3",
   "version": "3.8.3"
  }
 },
 "nbformat": 4,
 "nbformat_minor": 2
}
